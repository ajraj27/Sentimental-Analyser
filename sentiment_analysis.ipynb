{
  "nbformat": 4,
  "nbformat_minor": 0,
  "metadata": {
    "colab": {
      "name": "sentiment_analysis.ipynb",
      "provenance": []
    },
    "kernelspec": {
      "name": "python3",
      "display_name": "Python 3"
    },
    "accelerator": "GPU"
  },
  "cells": [
    {
      "cell_type": "code",
      "metadata": {
        "id": "7lisPNTXq-6A",
        "colab_type": "code",
        "outputId": "421fb643-d535-4d9e-8156-502c430fcd0d",
        "colab": {
          "base_uri": "https://localhost:8080/",
          "height": 124
        }
      },
      "source": [
        "from google.colab import drive\n",
        "drive.mount('/content/gdrive')"
      ],
      "execution_count": 0,
      "outputs": [
        {
          "output_type": "stream",
          "text": [
            "Go to this URL in a browser: https://accounts.google.com/o/oauth2/auth?client_id=947318989803-6bn6qk8qdgf4n4g3pfee6491hc0brc4i.apps.googleusercontent.com&redirect_uri=urn%3Aietf%3Awg%3Aoauth%3A2.0%3Aoob&scope=email%20https%3A%2F%2Fwww.googleapis.com%2Fauth%2Fdocs.test%20https%3A%2F%2Fwww.googleapis.com%2Fauth%2Fdrive%20https%3A%2F%2Fwww.googleapis.com%2Fauth%2Fdrive.photos.readonly%20https%3A%2F%2Fwww.googleapis.com%2Fauth%2Fpeopleapi.readonly&response_type=code\n",
            "\n",
            "Enter your authorization code:\n",
            "··········\n",
            "Mounted at /content/gdrive\n"
          ],
          "name": "stdout"
        }
      ]
    },
    {
      "cell_type": "code",
      "metadata": {
        "id": "qWRi9CzsrTC9",
        "colab_type": "code",
        "outputId": "cbef3258-af50-4233-e3ac-3d027faa148e",
        "colab": {
          "base_uri": "https://localhost:8080/",
          "height": 52
        }
      },
      "source": [
        "!unzip \"/content/gdrive/My Drive/sentiment140.zip\""
      ],
      "execution_count": 0,
      "outputs": [
        {
          "output_type": "stream",
          "text": [
            "Archive:  /content/gdrive/My Drive/sentiment140.zip\n",
            "  inflating: training.1600000.processed.noemoticon.csv  \n"
          ],
          "name": "stdout"
        }
      ]
    },
    {
      "cell_type": "markdown",
      "metadata": {
        "id": "wTcnXb7-rTP2",
        "colab_type": "text"
      },
      "source": [
        ""
      ]
    },
    {
      "cell_type": "code",
      "metadata": {
        "id": "7o-qSuxIsilk",
        "colab_type": "code",
        "outputId": "988ce8a3-991d-48bb-f86d-5e30b82c896f",
        "colab": {
          "base_uri": "https://localhost:8080/",
          "height": 34
        }
      },
      "source": [
        "!ls \"/content/gdrive/My Drive\""
      ],
      "execution_count": 0,
      "outputs": [
        {
          "output_type": "stream",
          "text": [
            "ls: cannot access '/content/gdrive/My Drive': No such file or directory\n"
          ],
          "name": "stdout"
        }
      ]
    },
    {
      "cell_type": "code",
      "metadata": {
        "id": "dpMz4C3SsjdQ",
        "colab_type": "code",
        "outputId": "74cfa88c-7ce9-4198-8704-0f72f054d5d4",
        "colab": {
          "base_uri": "https://localhost:8080/",
          "height": 52
        }
      },
      "source": [
        "import nltk\n",
        "nltk.download('punkt')\n",
        "from nltk.tokenize import word_tokenize\n",
        "from nltk.corpus import stopwords\n",
        "from nltk.stem import PorterStemmer\n",
        "import matplotlib.pyplot as plt\n",
        "from wordcloud import WordCloud\n",
        "from math import log, sqrt\n",
        "import pandas as pd\n",
        "import numpy as np\n",
        "import re\n",
        "%matplotlib inline"
      ],
      "execution_count": 0,
      "outputs": [
        {
          "output_type": "stream",
          "text": [
            "[nltk_data] Downloading package punkt to /root/nltk_data...\n",
            "[nltk_data]   Unzipping tokenizers/punkt.zip.\n"
          ],
          "name": "stdout"
        }
      ]
    },
    {
      "cell_type": "code",
      "metadata": {
        "id": "8RzmTL55vCA6",
        "colab_type": "code",
        "colab": {}
      },
      "source": [
        "tweets = pd.read_csv('/content/sentiment140.csv',encoding='latin-1')"
      ],
      "execution_count": 0,
      "outputs": []
    },
    {
      "cell_type": "code",
      "metadata": {
        "id": "q9ngiEj-wnDB",
        "colab_type": "code",
        "colab": {}
      },
      "source": [
        "tweets.columns = ['label','userid','time','no','username','message']"
      ],
      "execution_count": 0,
      "outputs": []
    },
    {
      "cell_type": "code",
      "metadata": {
        "id": "ygZK4mDzw1Pn",
        "colab_type": "code",
        "colab": {}
      },
      "source": [
        "tweets = tweets.sample(frac=1)"
      ],
      "execution_count": 0,
      "outputs": []
    },
    {
      "cell_type": "code",
      "metadata": {
        "id": "LKEoL4JGw2Nh",
        "colab_type": "code",
        "colab": {}
      },
      "source": [
        "tweets = tweets.head(75000)"
      ],
      "execution_count": 0,
      "outputs": []
    },
    {
      "cell_type": "code",
      "metadata": {
        "id": "vrTUWer-xSF2",
        "colab_type": "code",
        "colab": {}
      },
      "source": [
        "tweets = tweets.drop(columns=['time','no','userid'])"
      ],
      "execution_count": 0,
      "outputs": []
    },
    {
      "cell_type": "code",
      "metadata": {
        "id": "tw71cfGBz7V2",
        "colab_type": "code",
        "colab": {}
      },
      "source": [
        "tweets = tweets.reset_index()"
      ],
      "execution_count": 0,
      "outputs": []
    },
    {
      "cell_type": "code",
      "metadata": {
        "id": "xTSaMI2cxcN9",
        "colab_type": "code",
        "colab": {}
      },
      "source": [
        "tweets = tweets.drop(columns = ['index'])"
      ],
      "execution_count": 0,
      "outputs": []
    },
    {
      "cell_type": "code",
      "metadata": {
        "id": "2LTACG8IznF8",
        "colab_type": "code",
        "colab": {
          "base_uri": "https://localhost:8080/",
          "height": 1000
        },
        "outputId": "c73ef811-2a9a-4b00-c96c-8dd4bc933c4a"
      },
      "source": [
        "tweets"
      ],
      "execution_count": 92,
      "outputs": [
        {
          "output_type": "execute_result",
          "data": {
            "text/html": [
              "<div>\n",
              "<style scoped>\n",
              "    .dataframe tbody tr th:only-of-type {\n",
              "        vertical-align: middle;\n",
              "    }\n",
              "\n",
              "    .dataframe tbody tr th {\n",
              "        vertical-align: top;\n",
              "    }\n",
              "\n",
              "    .dataframe thead th {\n",
              "        text-align: right;\n",
              "    }\n",
              "</style>\n",
              "<table border=\"1\" class=\"dataframe\">\n",
              "  <thead>\n",
              "    <tr style=\"text-align: right;\">\n",
              "      <th></th>\n",
              "      <th>label</th>\n",
              "      <th>username</th>\n",
              "      <th>message</th>\n",
              "    </tr>\n",
              "  </thead>\n",
              "  <tbody>\n",
              "    <tr>\n",
              "      <th>0</th>\n",
              "      <td>0</td>\n",
              "      <td>loversnothaters</td>\n",
              "      <td>I'm tired. I need rest..</td>\n",
              "    </tr>\n",
              "    <tr>\n",
              "      <th>1</th>\n",
              "      <td>0</td>\n",
              "      <td>deadsham</td>\n",
              "      <td>@elle_oh_elle_ @shelbiiCat Such a bummer!</td>\n",
              "    </tr>\n",
              "    <tr>\n",
              "      <th>2</th>\n",
              "      <td>0</td>\n",
              "      <td>peace_right</td>\n",
              "      <td>Window shopping online as usual  ...lolol</td>\n",
              "    </tr>\n",
              "    <tr>\n",
              "      <th>3</th>\n",
              "      <td>4</td>\n",
              "      <td>LANjackal</td>\n",
              "      <td>@Pictcom Site doesn't work with Google Chrome ...</td>\n",
              "    </tr>\n",
              "    <tr>\n",
              "      <th>4</th>\n",
              "      <td>4</td>\n",
              "      <td>lydddiaa</td>\n",
              "      <td>-I'M ON A BOAT!</td>\n",
              "    </tr>\n",
              "    <tr>\n",
              "      <th>5</th>\n",
              "      <td>0</td>\n",
              "      <td>litopine</td>\n",
              "      <td>Confused</td>\n",
              "    </tr>\n",
              "    <tr>\n",
              "      <th>6</th>\n",
              "      <td>4</td>\n",
              "      <td>gemeny13</td>\n",
              "      <td>Relaxing, long day at the z00 with my fam bam.</td>\n",
              "    </tr>\n",
              "    <tr>\n",
              "      <th>7</th>\n",
              "      <td>4</td>\n",
              "      <td>oxSTEFFxoMCRmy</td>\n",
              "      <td>Gonna go somewhere. Far. Going to bring my iPo...</td>\n",
              "    </tr>\n",
              "    <tr>\n",
              "      <th>8</th>\n",
              "      <td>0</td>\n",
              "      <td>juliapettit</td>\n",
              "      <td>babysitting  alllllll day.</td>\n",
              "    </tr>\n",
              "    <tr>\n",
              "      <th>9</th>\n",
              "      <td>0</td>\n",
              "      <td>TheFabu1ousOne</td>\n",
              "      <td>Back to work. I am totally unhappy about being...</td>\n",
              "    </tr>\n",
              "    <tr>\n",
              "      <th>10</th>\n",
              "      <td>4</td>\n",
              "      <td>lameymacdonald</td>\n",
              "      <td>@MelodyLeaLamb Big Thanks Melody!  Gotta love ...</td>\n",
              "    </tr>\n",
              "    <tr>\n",
              "      <th>11</th>\n",
              "      <td>4</td>\n",
              "      <td>MEL_L0VEY0U</td>\n",
              "      <td>@aplusk http://twitpic.com/5flwu - two of the ...</td>\n",
              "    </tr>\n",
              "    <tr>\n",
              "      <th>12</th>\n",
              "      <td>4</td>\n",
              "      <td>Chaaarliiieee</td>\n",
              "      <td>@StephenJGilbert well, im sure they wont mind ...</td>\n",
              "    </tr>\n",
              "    <tr>\n",
              "      <th>13</th>\n",
              "      <td>0</td>\n",
              "      <td>TBones_mom</td>\n",
              "      <td>@topslakr YES, sorry to say!!!!!!  Called my s...</td>\n",
              "    </tr>\n",
              "    <tr>\n",
              "      <th>14</th>\n",
              "      <td>4</td>\n",
              "      <td>brad_jackson</td>\n",
              "      <td>30th Birthday. Step One. Change flat tire. Ha!!</td>\n",
              "    </tr>\n",
              "    <tr>\n",
              "      <th>15</th>\n",
              "      <td>0</td>\n",
              "      <td>taishi</td>\n",
              "      <td>It's rainy day</td>\n",
              "    </tr>\n",
              "    <tr>\n",
              "      <th>16</th>\n",
              "      <td>4</td>\n",
              "      <td>Anna_McB</td>\n",
              "      <td>Yeahh clare..rage..ROOM17 ALL THEEEE WAY  part...</td>\n",
              "    </tr>\n",
              "    <tr>\n",
              "      <th>17</th>\n",
              "      <td>4</td>\n",
              "      <td>WWF_Climate</td>\n",
              "      <td>In just over 4 hrs a project will launch that ...</td>\n",
              "    </tr>\n",
              "    <tr>\n",
              "      <th>18</th>\n",
              "      <td>4</td>\n",
              "      <td>tylershamy</td>\n",
              "      <td>good night everyone     much love</td>\n",
              "    </tr>\n",
              "    <tr>\n",
              "      <th>19</th>\n",
              "      <td>4</td>\n",
              "      <td>deb_henderson</td>\n",
              "      <td>Wishing my sister Sandy and her husband Ellis ...</td>\n",
              "    </tr>\n",
              "    <tr>\n",
              "      <th>20</th>\n",
              "      <td>4</td>\n",
              "      <td>mcrfash1</td>\n",
              "      <td>@mcr_chick</td>\n",
              "    </tr>\n",
              "    <tr>\n",
              "      <th>21</th>\n",
              "      <td>4</td>\n",
              "      <td>laughteriskey</td>\n",
              "      <td>@DWsRoseC I was trying to organize groups but ...</td>\n",
              "    </tr>\n",
              "    <tr>\n",
              "      <th>22</th>\n",
              "      <td>0</td>\n",
              "      <td>fave</td>\n",
              "      <td>@Choklate LMAO @ oober sexy. i should send u t...</td>\n",
              "    </tr>\n",
              "    <tr>\n",
              "      <th>23</th>\n",
              "      <td>4</td>\n",
              "      <td>jessicabentley</td>\n",
              "      <td>Awake   Trying to think of something healthy t...</td>\n",
              "    </tr>\n",
              "    <tr>\n",
              "      <th>24</th>\n",
              "      <td>0</td>\n",
              "      <td>cowgirlku</td>\n",
              "      <td>@MGiraudOfficial MATT, i dun want U 2 get invo...</td>\n",
              "    </tr>\n",
              "    <tr>\n",
              "      <th>25</th>\n",
              "      <td>0</td>\n",
              "      <td>lisisilveira</td>\n",
              "      <td>@AlohaArleen yes, Arleen  it did crash on the ...</td>\n",
              "    </tr>\n",
              "    <tr>\n",
              "      <th>26</th>\n",
              "      <td>4</td>\n",
              "      <td>HazeyBaby</td>\n",
              "      <td>.. ON A BRIGHTER NOTE ..i start yoga today! Th...</td>\n",
              "    </tr>\n",
              "    <tr>\n",
              "      <th>27</th>\n",
              "      <td>4</td>\n",
              "      <td>sarahmozeson</td>\n",
              "      <td>vc with @lcgretriever</td>\n",
              "    </tr>\n",
              "    <tr>\n",
              "      <th>28</th>\n",
              "      <td>4</td>\n",
              "      <td>OHOWFUN</td>\n",
              "      <td>@Nic1971 You'd stand much better chance flying...</td>\n",
              "    </tr>\n",
              "    <tr>\n",
              "      <th>29</th>\n",
              "      <td>0</td>\n",
              "      <td>EmmyinVegas</td>\n",
              "      <td>I am trying to upload my background from twitb...</td>\n",
              "    </tr>\n",
              "    <tr>\n",
              "      <th>...</th>\n",
              "      <td>...</td>\n",
              "      <td>...</td>\n",
              "      <td>...</td>\n",
              "    </tr>\n",
              "    <tr>\n",
              "      <th>74970</th>\n",
              "      <td>4</td>\n",
              "      <td>JTWise</td>\n",
              "      <td>I think I am finally &amp;quot;caught up&amp;quot; on ...</td>\n",
              "    </tr>\n",
              "    <tr>\n",
              "      <th>74971</th>\n",
              "      <td>0</td>\n",
              "      <td>sugree</td>\n",
              "      <td>heading to cathedral. late  #onroad</td>\n",
              "    </tr>\n",
              "    <tr>\n",
              "      <th>74972</th>\n",
              "      <td>4</td>\n",
              "      <td>JennyGnow</td>\n",
              "      <td>Lunch time w/ Momma (she's definitely my best ...</td>\n",
              "    </tr>\n",
              "    <tr>\n",
              "      <th>74973</th>\n",
              "      <td>0</td>\n",
              "      <td>Sarahhlouisee</td>\n",
              "      <td>@shaundiviney did you guys do all the calls? m...</td>\n",
              "    </tr>\n",
              "    <tr>\n",
              "      <th>74974</th>\n",
              "      <td>4</td>\n",
              "      <td>arlenesg</td>\n",
              "      <td>@Raatek Hey Belgium!  I shared the Dance Train...</td>\n",
              "    </tr>\n",
              "    <tr>\n",
              "      <th>74975</th>\n",
              "      <td>4</td>\n",
              "      <td>Jamesp0p</td>\n",
              "      <td>About to start the branding process for a Pers...</td>\n",
              "    </tr>\n",
              "    <tr>\n",
              "      <th>74976</th>\n",
              "      <td>0</td>\n",
              "      <td>GeminiJS</td>\n",
              "      <td>#unfollowdiddy just simply because of his very...</td>\n",
              "    </tr>\n",
              "    <tr>\n",
              "      <th>74977</th>\n",
              "      <td>0</td>\n",
              "      <td>bronaghmailey</td>\n",
              "      <td>@staceyelliott3 heyy stac, i rang you like 3 t...</td>\n",
              "    </tr>\n",
              "    <tr>\n",
              "      <th>74978</th>\n",
              "      <td>0</td>\n",
              "      <td>Frankxor</td>\n",
              "      <td>Looking for tix for: The entire season</td>\n",
              "    </tr>\n",
              "    <tr>\n",
              "      <th>74979</th>\n",
              "      <td>4</td>\n",
              "      <td>Georgia_Ellis_x</td>\n",
              "      <td>I'm Gonna Go And Have Breakfast.  Back At Like...</td>\n",
              "    </tr>\n",
              "    <tr>\n",
              "      <th>74980</th>\n",
              "      <td>4</td>\n",
              "      <td>FayLeMarquand</td>\n",
              "      <td>@sln_x aww your SHO SHWEET.</td>\n",
              "    </tr>\n",
              "    <tr>\n",
              "      <th>74981</th>\n",
              "      <td>4</td>\n",
              "      <td>SanjanaSharma</td>\n",
              "      <td>@ksavai Yeah I hope so too! Thanks anyways.</td>\n",
              "    </tr>\n",
              "    <tr>\n",
              "      <th>74982</th>\n",
              "      <td>0</td>\n",
              "      <td>lsblake10</td>\n",
              "      <td>soooooo excited for this weekend (beginning on...</td>\n",
              "    </tr>\n",
              "    <tr>\n",
              "      <th>74983</th>\n",
              "      <td>4</td>\n",
              "      <td>jennyjardine</td>\n",
              "      <td>@nmhx I will need to try them  x</td>\n",
              "    </tr>\n",
              "    <tr>\n",
              "      <th>74984</th>\n",
              "      <td>0</td>\n",
              "      <td>h_erd</td>\n",
              "      <td>got new web browser still has lot ok errors th...</td>\n",
              "    </tr>\n",
              "    <tr>\n",
              "      <th>74985</th>\n",
              "      <td>0</td>\n",
              "      <td>NotoriousTIMP</td>\n",
              "      <td>*ugh* this cold is just beating me down  Damn ...</td>\n",
              "    </tr>\n",
              "    <tr>\n",
              "      <th>74986</th>\n",
              "      <td>4</td>\n",
              "      <td>nelster_1989</td>\n",
              "      <td>is round Sam's house  The weather is sooo nice!</td>\n",
              "    </tr>\n",
              "    <tr>\n",
              "      <th>74987</th>\n",
              "      <td>0</td>\n",
              "      <td>Jennay28</td>\n",
              "      <td>workkkkk</td>\n",
              "    </tr>\n",
              "    <tr>\n",
              "      <th>74988</th>\n",
              "      <td>4</td>\n",
              "      <td>LisaHovdelien</td>\n",
              "      <td>yeah! Monday and Tuesday is my days off!!  nic...</td>\n",
              "    </tr>\n",
              "    <tr>\n",
              "      <th>74989</th>\n",
              "      <td>0</td>\n",
              "      <td>ohevanalmighty</td>\n",
              "      <td>&amp;amp; we know its never simple never easy. nev...</td>\n",
              "    </tr>\n",
              "    <tr>\n",
              "      <th>74990</th>\n",
              "      <td>0</td>\n",
              "      <td>brooketaylor13</td>\n",
              "      <td>is home from a really sad recital,</td>\n",
              "    </tr>\n",
              "    <tr>\n",
              "      <th>74991</th>\n",
              "      <td>4</td>\n",
              "      <td>gbevin</td>\n",
              "      <td>@ikarzali Last night we finished putting toget...</td>\n",
              "    </tr>\n",
              "    <tr>\n",
              "      <th>74992</th>\n",
              "      <td>0</td>\n",
              "      <td>druey</td>\n",
              "      <td>@woosang I wish we had covered platforms.</td>\n",
              "    </tr>\n",
              "    <tr>\n",
              "      <th>74993</th>\n",
              "      <td>0</td>\n",
              "      <td>Jessica_LXY</td>\n",
              "      <td>@sxynomad ppl can be so mean sometimes, huh?</td>\n",
              "    </tr>\n",
              "    <tr>\n",
              "      <th>74994</th>\n",
              "      <td>4</td>\n",
              "      <td>hanna_C</td>\n",
              "      <td>@grace_whatman I can't. On the train to laaand...</td>\n",
              "    </tr>\n",
              "    <tr>\n",
              "      <th>74995</th>\n",
              "      <td>0</td>\n",
              "      <td>EvenALeyland</td>\n",
              "      <td>I hate people, who in the presence of friends ...</td>\n",
              "    </tr>\n",
              "    <tr>\n",
              "      <th>74996</th>\n",
              "      <td>0</td>\n",
              "      <td>Shashwati</td>\n",
              "      <td>@bookish claimed already</td>\n",
              "    </tr>\n",
              "    <tr>\n",
              "      <th>74997</th>\n",
              "      <td>4</td>\n",
              "      <td>apn</td>\n",
              "      <td>@djesanfrancisco Hey! Sorry to bother you: I f...</td>\n",
              "    </tr>\n",
              "    <tr>\n",
              "      <th>74998</th>\n",
              "      <td>0</td>\n",
              "      <td>rannyhillen</td>\n",
              "      <td>My brain was so stucked i dont know what to wr...</td>\n",
              "    </tr>\n",
              "    <tr>\n",
              "      <th>74999</th>\n",
              "      <td>0</td>\n",
              "      <td>buccaneer19</td>\n",
              "      <td>Still upset because Hertha BSC Berlin missed t...</td>\n",
              "    </tr>\n",
              "  </tbody>\n",
              "</table>\n",
              "<p>75000 rows × 3 columns</p>\n",
              "</div>"
            ],
            "text/plain": [
              "       label  ...                                            message\n",
              "0          0  ...                          I'm tired. I need rest.. \n",
              "1          0  ...         @elle_oh_elle_ @shelbiiCat Such a bummer! \n",
              "2          0  ...          Window shopping online as usual  ...lolol\n",
              "3          4  ...  @Pictcom Site doesn't work with Google Chrome ...\n",
              "4          4  ...                                   -I'M ON A BOAT! \n",
              "5          0  ...                                          Confused \n",
              "6          4  ...    Relaxing, long day at the z00 with my fam bam. \n",
              "7          4  ...  Gonna go somewhere. Far. Going to bring my iPo...\n",
              "8          0  ...                        babysitting  alllllll day. \n",
              "9          0  ...  Back to work. I am totally unhappy about being...\n",
              "10         4  ...  @MelodyLeaLamb Big Thanks Melody!  Gotta love ...\n",
              "11         4  ...  @aplusk http://twitpic.com/5flwu - two of the ...\n",
              "12         4  ...  @StephenJGilbert well, im sure they wont mind ...\n",
              "13         0  ...  @topslakr YES, sorry to say!!!!!!  Called my s...\n",
              "14         4  ...   30th Birthday. Step One. Change flat tire. Ha!! \n",
              "15         0  ...                                    It's rainy day \n",
              "16         4  ...  Yeahh clare..rage..ROOM17 ALL THEEEE WAY  part...\n",
              "17         4  ...  In just over 4 hrs a project will launch that ...\n",
              "18         4  ...                  good night everyone     much love\n",
              "19         4  ...  Wishing my sister Sandy and her husband Ellis ...\n",
              "20         4  ...                                        @mcr_chick \n",
              "21         4  ...  @DWsRoseC I was trying to organize groups but ...\n",
              "22         0  ...  @Choklate LMAO @ oober sexy. i should send u t...\n",
              "23         4  ...  Awake   Trying to think of something healthy t...\n",
              "24         0  ...  @MGiraudOfficial MATT, i dun want U 2 get invo...\n",
              "25         0  ...  @AlohaArleen yes, Arleen  it did crash on the ...\n",
              "26         4  ...  .. ON A BRIGHTER NOTE ..i start yoga today! Th...\n",
              "27         4  ...                             vc with @lcgretriever \n",
              "28         4  ...  @Nic1971 You'd stand much better chance flying...\n",
              "29         0  ...  I am trying to upload my background from twitb...\n",
              "...      ...  ...                                                ...\n",
              "74970      4  ...  I think I am finally &quot;caught up&quot; on ...\n",
              "74971      0  ...                heading to cathedral. late  #onroad\n",
              "74972      4  ...  Lunch time w/ Momma (she's definitely my best ...\n",
              "74973      0  ...  @shaundiviney did you guys do all the calls? m...\n",
              "74974      4  ...  @Raatek Hey Belgium!  I shared the Dance Train...\n",
              "74975      4  ...  About to start the branding process for a Pers...\n",
              "74976      0  ...  #unfollowdiddy just simply because of his very...\n",
              "74977      0  ...  @staceyelliott3 heyy stac, i rang you like 3 t...\n",
              "74978      0  ...            Looking for tix for: The entire season \n",
              "74979      4  ...  I'm Gonna Go And Have Breakfast.  Back At Like...\n",
              "74980      4  ...                       @sln_x aww your SHO SHWEET. \n",
              "74981      4  ...       @ksavai Yeah I hope so too! Thanks anyways. \n",
              "74982      0  ...  soooooo excited for this weekend (beginning on...\n",
              "74983      4  ...                   @nmhx I will need to try them  x\n",
              "74984      0  ...  got new web browser still has lot ok errors th...\n",
              "74985      0  ...  *ugh* this cold is just beating me down  Damn ...\n",
              "74986      4  ...   is round Sam's house  The weather is sooo nice! \n",
              "74987      0  ...                                          workkkkk \n",
              "74988      4  ...  yeah! Monday and Tuesday is my days off!!  nic...\n",
              "74989      0  ...  &amp; we know its never simple never easy. nev...\n",
              "74990      0  ...                is home from a really sad recital, \n",
              "74991      4  ...  @ikarzali Last night we finished putting toget...\n",
              "74992      0  ...         @woosang I wish we had covered platforms. \n",
              "74993      0  ...      @sxynomad ppl can be so mean sometimes, huh? \n",
              "74994      4  ...  @grace_whatman I can't. On the train to laaand...\n",
              "74995      0  ...  I hate people, who in the presence of friends ...\n",
              "74996      0  ...                          @bookish claimed already \n",
              "74997      4  ...  @djesanfrancisco Hey! Sorry to bother you: I f...\n",
              "74998      0  ...  My brain was so stucked i dont know what to wr...\n",
              "74999      0  ...  Still upset because Hertha BSC Berlin missed t...\n",
              "\n",
              "[75000 rows x 3 columns]"
            ]
          },
          "metadata": {
            "tags": []
          },
          "execution_count": 92
        }
      ]
    },
    {
      "cell_type": "code",
      "metadata": {
        "id": "wRz0i-lQ0qk-",
        "colab_type": "code",
        "colab": {}
      },
      "source": [
        "Y = tweets.label"
      ],
      "execution_count": 0,
      "outputs": []
    },
    {
      "cell_type": "code",
      "metadata": {
        "id": "dzqrUy3e1wAJ",
        "colab_type": "code",
        "colab": {}
      },
      "source": [
        "X = tweets.drop(columns = ['label'])"
      ],
      "execution_count": 0,
      "outputs": []
    },
    {
      "cell_type": "code",
      "metadata": {
        "id": "axMt_HjX1xR3",
        "colab_type": "code",
        "colab": {}
      },
      "source": [
        "from sklearn.model_selection import train_test_split\n",
        "X_train, X_test ,Y_train, Y_test = train_test_split(X, Y,test_size=0.15)"
      ],
      "execution_count": 0,
      "outputs": []
    },
    {
      "cell_type": "code",
      "metadata": {
        "id": "Qtm4iSc215z-",
        "colab_type": "code",
        "colab": {
          "base_uri": "https://localhost:8080/",
          "height": 86
        },
        "outputId": "ec808d8c-efdb-4791-c49f-38ee3f2b4999"
      },
      "source": [
        "print(X_train.size)\n",
        "print(X_test.size)\n",
        "print(Y_test.size)\n",
        "print(Y_train.size)"
      ],
      "execution_count": 106,
      "outputs": [
        {
          "output_type": "stream",
          "text": [
            "127500\n",
            "22500\n",
            "11250\n",
            "63750\n"
          ],
          "name": "stdout"
        }
      ]
    },
    {
      "cell_type": "code",
      "metadata": {
        "id": "KMmvUkI32dLu",
        "colab_type": "code",
        "colab": {}
      },
      "source": [
        ""
      ],
      "execution_count": 0,
      "outputs": []
    },
    {
      "cell_type": "code",
      "metadata": {
        "id": "ZM_I8JD15P9s",
        "colab_type": "code",
        "colab": {}
      },
      "source": [
        ""
      ],
      "execution_count": 0,
      "outputs": []
    }
  ]
}